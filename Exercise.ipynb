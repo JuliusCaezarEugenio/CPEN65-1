{
  "nbformat": 4,
  "nbformat_minor": 0,
  "metadata": {
    "colab": {
      "provenance": [],
      "authorship_tag": "ABX9TyMGjKwMPzUNVLUnq5JgZd6i",
      "include_colab_link": true
    },
    "kernelspec": {
      "name": "python3",
      "display_name": "Python 3"
    },
    "language_info": {
      "name": "python"
    }
  },
  "cells": [
    {
      "cell_type": "markdown",
      "metadata": {
        "id": "view-in-github",
        "colab_type": "text"
      },
      "source": [
        "<a href=\"https://colab.research.google.com/github/JuliusCaezarEugenio/CPEN65-1/blob/main/Exercise.ipynb\" target=\"_parent\"><img src=\"https://colab.research.google.com/assets/colab-badge.svg\" alt=\"Open In Colab\"/></a>"
      ]
    },
    {
      "cell_type": "code",
      "source": [
        "class Array:\n",
        "\n",
        "  def reverse(name):\n",
        "    name.reverse()\n",
        "    print (\"This is your name in reverse:\", *name)\n",
        "\n",
        "\n",
        "name = [\"J\", \"u\", \"l\", \"i\", \"u\", \"s\" ,\"C \", \"a\", \"e\", \"z\", \"a\", \"r\", \"R. \",\n",
        "          \"E \", \"u\", \"g\", \"e\", \"n\", \"i\", \"o\"]\n",
        "\n",
        "Reverse = Array()\n",
        "Array.reverse(name)\n",
        "\n"
      ],
      "metadata": {
        "colab": {
          "base_uri": "https://localhost:8080/"
        },
        "id": "xa1pPVAsSVnu",
        "outputId": "de29ee0b-9494-4e76-a387-5c30ee124950"
      },
      "execution_count": null,
      "outputs": [
        {
          "output_type": "stream",
          "name": "stdout",
          "text": [
            "This is your name in reverse: o i n e g u E  R.  r a z e a C  s u i l u J\n"
          ]
        }
      ]
    }
  ]
}