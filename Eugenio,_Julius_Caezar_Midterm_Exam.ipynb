{
  "nbformat": 4,
  "nbformat_minor": 0,
  "metadata": {
    "colab": {
      "provenance": [],
      "authorship_tag": "ABX9TyMDzyVNht4Z8PtHaT8dyx72",
      "include_colab_link": true
    },
    "kernelspec": {
      "name": "python3",
      "display_name": "Python 3"
    },
    "language_info": {
      "name": "python"
    }
  },
  "cells": [
    {
      "cell_type": "markdown",
      "metadata": {
        "id": "view-in-github",
        "colab_type": "text"
      },
      "source": [
        "<a href=\"https://colab.research.google.com/github/JuliusCaezarEugenio/CPEN65-1/blob/main/Eugenio%2C_Julius_Caezar_Midterm_Exam.ipynb\" target=\"_parent\"><img src=\"https://colab.research.google.com/assets/colab-badge.svg\" alt=\"Open In Colab\"/></a>"
      ]
    },
    {
      "cell_type": "code",
      "execution_count": 1,
      "metadata": {
        "colab": {
          "base_uri": "https://localhost:8080/"
        },
        "id": "f8bnUkJqKp0d",
        "outputId": "574551e3-8d09-4034-ceec-0718a1e4b62a"
      },
      "outputs": [
        {
          "output_type": "stream",
          "name": "stdout",
          "text": [
            "array('i', [0, 1, 2, 3, 4, 5, 6, 7, 8, 9])\n",
            "0\n",
            "1\n",
            "2\n",
            "3\n",
            "4\n",
            "5\n",
            "6\n",
            "7\n",
            "8\n",
            "9\n",
            "Sum of array = 45\n"
          ]
        }
      ],
      "source": [
        "#1.Write a Python Program to create an array of 10 integers and display the array items. Access individual elements through indexes and compute for the sum.\n",
        "\n",
        "from array import *\n",
        "\n",
        "arr = array('i', [0, 1, 2, 3, 4, 5, 6, 7, 8, 9])\n",
        "print(arr)\n",
        "\n",
        "#Access indivual array through their indexes\n",
        "print(arr[0])\n",
        "print(arr[1])\n",
        "print(arr[2])\n",
        "print(arr[3])\n",
        "print(arr[4])\n",
        "print(arr[5])\n",
        "print(arr[6])\n",
        "print(arr[7])\n",
        "print(arr[8])\n",
        "print(arr[9])\n",
        "\n",
        "arr_sum = (sum(arr))\n",
        "print(f'Sum of array = {arr_sum}')"
      ]
    },
    {
      "cell_type": "code",
      "source": [
        "#2. Write a python program to append a new item to the end of the array. Original array numbers = [1, 2, 3, 4, 5, 6, 7, 8, 9, 10]\n",
        "from array import*\n",
        "\n",
        "arr = array('i', [1, 2, 3, 4, 5, 6, 7, 8, 9])\n",
        "print(f'Original array: {arr}\\n')\n",
        "arr.append(10)\n",
        "print(f'Present array after appending number 10: {arr}')"
      ],
      "metadata": {
        "colab": {
          "base_uri": "https://localhost:8080/"
        },
        "id": "ZXvbfo6bXB6V",
        "outputId": "8c4d1e9d-68a2-405b-fb82-999061a4bf30"
      },
      "execution_count": 3,
      "outputs": [
        {
          "output_type": "stream",
          "name": "stdout",
          "text": [
            "Original array: array('i', [1, 2, 3, 4, 5, 6, 7, 8, 9])\n",
            "\n",
            "Present array after appending number 10: array('i', [1, 2, 3, 4, 5, 6, 7, 8, 9, 10])\n"
          ]
        }
      ]
    },
    {
      "cell_type": "code",
      "source": [
        "#3. Write python program to insert a new item before the last element in an existing array. Original array: numbers = [1, 2, 3, 4, 5, 6, 7, 8, 9, 10]\n",
        "from array import*\n",
        "\n",
        "arr = array('i', [1, 2, 3, 4, 5, 6, 7, 8, 9, 10])\n",
        "print(f'Original array: {arr} \\n')\n",
        "arr.insert(9, -1)\n",
        "print(f'Array after the appending a new item before the last element: {arr}')"
      ],
      "metadata": {
        "colab": {
          "base_uri": "https://localhost:8080/"
        },
        "id": "EnEHYUDzXI-x",
        "outputId": "480b990d-aa29-416b-a566-daceed72a26d"
      },
      "execution_count": 4,
      "outputs": [
        {
          "output_type": "stream",
          "name": "stdout",
          "text": [
            "Original array: array('i', [1, 2, 3, 4, 5, 6, 7, 8, 9, 10]) \n",
            "\n",
            "Array after the appending a new item before the last element: array('i', [1, 2, 3, 4, 5, 6, 7, 8, 9, -1, 10])\n"
          ]
        }
      ]
    },
    {
      "cell_type": "code",
      "source": [
        "#4. Write a python program to reverse the order of the items in the array. Original array: numbers = [1, 2, 3, 4, 5]\n",
        "from array import*\n",
        "\n",
        "arr = array('i', [1, 2, 3, 4, 5])\n",
        "print(f'Original array: {arr}\\n')\n",
        "arr.reverse()\n",
        "print(f'Reverse version of the array: {arr}')"
      ],
      "metadata": {
        "colab": {
          "base_uri": "https://localhost:8080/"
        },
        "id": "5pKaLVkHXNu5",
        "outputId": "dc6b3021-3fca-44e0-d909-a8f2e7924a1a"
      },
      "execution_count": 5,
      "outputs": [
        {
          "output_type": "stream",
          "name": "stdout",
          "text": [
            "Original array: array('i', [1, 2, 3, 4, 5])\n",
            "\n",
            "Reverse version of the array: array('i', [5, 4, 3, 2, 1])\n"
          ]
        }
      ]
    },
    {
      "cell_type": "code",
      "source": [
        "#5. Let A be an array of size ≥ 2 containing integers from 1 to n-1, inclusive with exactly one repeated. Create an algorithm for finding the integer in A that is repeated\n",
        "from array import*\n",
        "                                                        #Algorithm:\n",
        "arr = array('i', [1,2,3,2])                             #step 1: declare the array with size ≥ 2\n",
        "arr2 = []                                               #step 2: make an empty list\n",
        "\n",
        "for i in arr:                                           #step 3: use for loop to loop through the array one by one\n",
        "  if i not in arr2:                                     #step 4: After looping, make if-else conditions to find the duplicate number\n",
        "    arr2.append(i)                                      #step 5: If the program met the conditions, print the output(duplicated number)\n",
        "  else:\n",
        "    print(f'I found youu doppel ganger!: {i}') \n",
        "\n"
      ],
      "metadata": {
        "colab": {
          "base_uri": "https://localhost:8080/"
        },
        "id": "Q-JXsCFYXQdt",
        "outputId": "86dc2f55-bdd1-4f59-fd83-5ffd500f2f9f"
      },
      "execution_count": 10,
      "outputs": [
        {
          "output_type": "stream",
          "name": "stdout",
          "text": [
            "I found youu doppel ganger!: 2\n"
          ]
        }
      ]
    }
  ]
}