{
  "nbformat": 4,
  "nbformat_minor": 0,
  "metadata": {
    "colab": {
      "provenance": [],
      "authorship_tag": "ABX9TyMftixZlTypMGwQQ8vlMli5",
      "include_colab_link": true
    },
    "kernelspec": {
      "name": "python3",
      "display_name": "Python 3"
    },
    "language_info": {
      "name": "python"
    }
  },
  "cells": [
    {
      "cell_type": "markdown",
      "metadata": {
        "id": "view-in-github",
        "colab_type": "text"
      },
      "source": [
        "<a href=\"https://colab.research.google.com/github/JuliusCaezarEugenio/CPEN65-1/blob/main/Area_Eugenio.ipynb\" target=\"_parent\"><img src=\"https://colab.research.google.com/assets/colab-badge.svg\" alt=\"Open In Colab\"/></a>"
      ]
    },
    {
      "cell_type": "code",
      "execution_count": null,
      "metadata": {
        "colab": {
          "base_uri": "https://localhost:8080/"
        },
        "id": "UEaVxsp4fPpf",
        "outputId": "4644c131-ed79-45ff-a9eb-be075aabf4df"
      },
      "outputs": [
        {
          "output_type": "stream",
          "name": "stdout",
          "text": [
            "value: 7\n",
            "What unit did you enter? diameter (d) or radius (r): d\n",
            "Given d = 7.0, Area = 38.48\n"
          ]
        }
      ],
      "source": [
        "import math\n",
        "user = float(input(\"value: \"))\n",
        "unit = input(\"What unit did you enter? diameter (d) or radius (r): \").lower()\n",
        "\n",
        "\n",
        "class Circle:\n",
        "\n",
        "    def get_area(self):\n",
        "        if unit == \"r\":\n",
        "            a1 = round(math.pi * user ** 2, 2)\n",
        "            print(f'Given r = {user}, Area = {a1}')\n",
        "        else:\n",
        "            a2 = round((math.pi * user ** 2) / 4, 2)\n",
        "            print(f'Given d = {user}, Area = {a2}')\n",
        "\n",
        "\n",
        "point = Circle\n",
        "point.get_area(0)"
      ]
    }
  ]
}