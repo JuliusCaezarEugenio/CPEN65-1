{
  "nbformat": 4,
  "nbformat_minor": 0,
  "metadata": {
    "colab": {
      "provenance": [],
      "authorship_tag": "ABX9TyPyOnZMFq9lvee063tTQVnG",
      "include_colab_link": true
    },
    "kernelspec": {
      "name": "python3",
      "display_name": "Python 3"
    },
    "language_info": {
      "name": "python"
    }
  },
  "cells": [
    {
      "cell_type": "markdown",
      "metadata": {
        "id": "view-in-github",
        "colab_type": "text"
      },
      "source": [
        "<a href=\"https://colab.research.google.com/github/JuliusCaezarEugenio/CPEN65-1/blob/main/Stack_and_Queues.ipynb\" target=\"_parent\"><img src=\"https://colab.research.google.com/assets/colab-badge.svg\" alt=\"Open In Colab\"/></a>"
      ]
    },
    {
      "cell_type": "markdown",
      "source": [],
      "metadata": {
        "id": "3ViMjYN1Yri7"
      }
    },
    {
      "cell_type": "code",
      "source": [
        "class Stack:\n",
        "  def __init__(self):\n",
        "    self.stack = []\n",
        "\n",
        "  def push(self,dataval):\n",
        "    if dataval not in self.stack:\n",
        "      return self.stack.append(dataval)\n",
        "    else:\n",
        "      return False\n",
        "  \n",
        "  def pop(self):\n",
        "    if len(self.stack) <=0:\n",
        "      return(\"No element in the stock\")\n",
        "    else:\n",
        "      return self.stack.pop()\n",
        "\n",
        "AStack = Stack()\n",
        "AStack.push(\"A\")\n",
        "AStack.push(\"B\")\n",
        "AStack.push(\"C\")\n",
        "print(AStack.stack)\n",
        "AStack.pop()\n",
        "AStack.pop()\n",
        "print(AStack.stack)\n"
      ],
      "metadata": {
        "colab": {
          "base_uri": "https://localhost:8080/"
        },
        "id": "Eg0qgumucnRK",
        "outputId": "fc0e9225-298f-4709-f226-4f43dd2042cf"
      },
      "execution_count": 15,
      "outputs": [
        {
          "output_type": "stream",
          "name": "stdout",
          "text": [
            "['A', 'B', 'C']\n",
            "['A']\n"
          ]
        }
      ]
    },
    {
      "cell_type": "code",
      "source": [
        "#Application\n",
        "\n",
        "#Implement the above program by Queues Data Structure(enqueue and dequeue)"
      ],
      "metadata": {
        "id": "CjB1Fk5RiYHe"
      },
      "execution_count": null,
      "outputs": []
    },
    {
      "cell_type": "code",
      "source": [
        "class Queue:\n",
        "  def __init__(self):\n",
        "    self.Queue = []\n",
        "\n",
        "  def enqueue(self,dataval):\n",
        "    if dataval not in self.Queue:\n",
        "      return self.Queue.append(dataval)\n",
        "    else:\n",
        "      return False\n",
        "  \n",
        "  def dequeue(self):\n",
        "    if len(self.Queue) <=0:\n",
        "      return(\"No element in the stock\")\n",
        "    else:\n",
        "      return self.Queue.pop(0)\n",
        "\n",
        "Queuen = Queue()\n",
        "Queuen.enqueue(\"A\")\n",
        "Queuen.enqueue(\"B\")\n",
        "Queuen.enqueue(\"C\")\n",
        "print(Queuen.Queue)\n",
        "Queuen.dequeue()\n",
        "print(Queuen.Queue)\n"
      ],
      "metadata": {
        "colab": {
          "base_uri": "https://localhost:8080/"
        },
        "id": "kKlSA9w3kTBO",
        "outputId": "ef2cfc4c-0f08-406c-91fb-dee392df74ba"
      },
      "execution_count": 39,
      "outputs": [
        {
          "output_type": "stream",
          "name": "stdout",
          "text": [
            "['A', 'B', 'C']\n",
            "['B', 'C']\n"
          ]
        }
      ]
    }
  ]
}